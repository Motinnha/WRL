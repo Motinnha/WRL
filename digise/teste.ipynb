{
 "cells": [
  {
   "cell_type": "code",
   "execution_count": 9,
   "metadata": {},
   "outputs": [
    {
     "name": "stdout",
     "output_type": "stream",
     "text": [
      "          Image Index Finding Label     Bbox [x           y           w  \\\n",
      "0    00013118_008.png   Atelectasis  225.084746  547.019217   86.779661   \n",
      "1    00014716_007.png   Atelectasis  686.101695  131.543498  185.491525   \n",
      "2    00029817_009.png   Atelectasis  221.830508  317.053115  155.118644   \n",
      "3    00014687_001.png   Atelectasis  726.237288  494.951420  141.016949   \n",
      "4    00017877_001.png   Atelectasis  660.067797  569.780787  200.677966   \n",
      "..                ...           ...         ...         ...         ...   \n",
      "979  00029464_015.png   Atelectasis  198.940451  352.900747  615.537778   \n",
      "980  00025769_001.png   Atelectasis  701.838229  572.491858  103.537778   \n",
      "981  00016837_002.png   Atelectasis  140.913785  658.962969  271.928889   \n",
      "982  00020124_003.png   Atelectasis  175.047118  580.456302  244.622222   \n",
      "983  00026920_000.png   Atelectasis  343.438229  446.198524  120.604444   \n",
      "\n",
      "             h]  Unnamed: 6  Unnamed: 7  Unnamed: 8  \n",
      "0     79.186441         NaN         NaN         NaN  \n",
      "1    313.491525         NaN         NaN         NaN  \n",
      "2    216.949153         NaN         NaN         NaN  \n",
      "3     55.322034         NaN         NaN         NaN  \n",
      "4     78.101695         NaN         NaN         NaN  \n",
      "..          ...         ...         ...         ...  \n",
      "979  323.128889         NaN         NaN         NaN  \n",
      "980   63.715556         NaN         NaN         NaN  \n",
      "981   94.435556         NaN         NaN         NaN  \n",
      "982  103.537778         NaN         NaN         NaN  \n",
      "983   53.475556         NaN         NaN         NaN  \n",
      "\n",
      "[984 rows x 9 columns]\n"
     ]
    }
   ],
   "source": [
    "import pandas as pd\n",
    "csv = pd.read_csv('BBox_List_2017.csv')\n",
    "print (csv)"
   ]
  }
 ],
 "metadata": {
  "kernelspec": {
   "display_name": "base",
   "language": "python",
   "name": "python3"
  },
  "language_info": {
   "codemirror_mode": {
    "name": "ipython",
    "version": 3
   },
   "file_extension": ".py",
   "mimetype": "text/x-python",
   "name": "python",
   "nbconvert_exporter": "python",
   "pygments_lexer": "ipython3",
   "version": "3.11.7"
  }
 },
 "nbformat": 4,
 "nbformat_minor": 2
}
