import csv
ficheiro = open('BBox_list_2017.csv', 'rb')
reader = csv.reader(ficheiro)
for linha in reader:
    print (linha)